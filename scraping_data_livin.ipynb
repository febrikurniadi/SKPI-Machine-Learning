{
  "nbformat": 4,
  "nbformat_minor": 0,
  "metadata": {
    "colab": {
      "provenance": []
    },
    "kernelspec": {
      "name": "python3",
      "display_name": "Python 3"
    },
    "language_info": {
      "name": "python"
    }
  },
  "cells": [
    {
      "cell_type": "code",
      "execution_count": null,
      "metadata": {
        "colab": {
          "base_uri": "https://localhost:8080/"
        },
        "id": "Uz1fEoYazqks",
        "outputId": "4f7adca1-2b17-49e5-ca4d-f9e13ea30080"
      },
      "outputs": [
        {
          "output_type": "stream",
          "name": "stdout",
          "text": [
            "Collecting google-play-scraper\n",
            "  Downloading google_play_scraper-1.2.7-py3-none-any.whl.metadata (50 kB)\n",
            "\u001b[?25l     \u001b[90m━━━━━━━━━━━━━━━━━━━━━━━━━━━━━━━━━━━━━━━━\u001b[0m \u001b[32m0.0/50.2 kB\u001b[0m \u001b[31m?\u001b[0m eta \u001b[36m-:--:--\u001b[0m\r\u001b[2K     \u001b[90m━━━━━━━━━━━━━━━━━━━━━━━━━━━━━━━━━━━━━━━━\u001b[0m \u001b[32m50.2/50.2 kB\u001b[0m \u001b[31m1.7 MB/s\u001b[0m eta \u001b[36m0:00:00\u001b[0m\n",
            "\u001b[?25hDownloading google_play_scraper-1.2.7-py3-none-any.whl (28 kB)\n",
            "Installing collected packages: google-play-scraper\n",
            "Successfully installed google-play-scraper-1.2.7\n"
          ]
        }
      ],
      "source": [
        "\n",
        "!pip install google-play-scraper\n",
        "from google_play_scraper import Sort, reviews_all\n",
        "import csv"
      ]
    },
    {
      "cell_type": "code",
      "source": [
        "\n",
        "# Ambil ulasan\n",
        "scrapreview = reviews_all(\n",
        "    'id.bmri.livin',\n",
        "    lang='id',\n",
        "    country='id',\n",
        "    sort=Sort.MOST_RELEVANT,\n",
        "    count=150000\n",
        ")\n",
        "\n",
        "# Batasi scraping hanya 150.000 data ulasan\n",
        "scrapreview_limited = scrapreview[:150000]"
      ],
      "metadata": {
        "id": "10Son0yrz7Ax"
      },
      "execution_count": null,
      "outputs": []
    },
    {
      "cell_type": "code",
      "source": [
        "# Menulis ulasan ke file CSV dengan semua informasi\n",
        "with open('hasil_scraping_livin.csv', mode='w', newline='', encoding='utf-8') as file:\n",
        "    writer = csv.writer(file)\n",
        "    # Menulis header CSV\n",
        "    writer.writerow(['content','score'])\n",
        "\n",
        "    # Menulis tiap ulasan ke dalam file CSV\n",
        "    for review in scrapreview_limited:\n",
        "        writer.writerow([\n",
        "            review['content'],\n",
        "            review.get('score', '')\n",
        "        ])\n",
        "\n",
        "print(\"Data telah disimpan ke hasil_scraping_livin.csv\")\n"
      ],
      "metadata": {
        "colab": {
          "base_uri": "https://localhost:8080/"
        },
        "id": "QYeN-Tmc2r18",
        "outputId": "f541e953-9c92-4bdf-adfd-5875c85fa554"
      },
      "execution_count": null,
      "outputs": [
        {
          "output_type": "stream",
          "name": "stdout",
          "text": [
            "Data telah disimpan ke hasil_scraping_livin.csv\n"
          ]
        }
      ]
    }
  ]
}